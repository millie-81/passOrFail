{
 "cells": [
  {
   "cell_type": "code",
   "execution_count": null,
   "metadata": {},
   "outputs": [],
   "source": [
    "# import library and load data\n",
    "import numpy as np\n",
    "import matplotlib.pyplot as plt\n",
    "import pandas as pd\n",
    "import seaborn as sns\n",
    "%matplotlib inline"
   ]
  },
  {
   "cell_type": "code",
   "execution_count": null,
   "metadata": {},
   "outputs": [],
   "source": [
    "data = pd.read_csv(\"DMV_Written_Tests.csv\")"
   ]
  },
  {
   "cell_type": "code",
   "execution_count": null,
   "metadata": {},
   "outputs": [],
   "source": [
    "data.head()"
   ]
  },
  {
   "cell_type": "code",
   "execution_count": null,
   "metadata": {},
   "outputs": [],
   "source": [
    "data.info()"
   ]
  },
  {
   "cell_type": "code",
   "execution_count": null,
   "metadata": {},
   "outputs": [],
   "source": [
    "scores = data[[\"DMV_Test_1\", \"DMV_Test_2\"]].values\n",
    "results = data[\"Results\"].values"
   ]
  },
  {
   "cell_type": "code",
   "execution_count": null,
   "metadata": {},
   "outputs": [],
   "source": [
    "# visualize the data\n",
    "passed = (results == 1).reshape(100, 1)\n",
    "failed = (results == 0).reshape(100, 1)\n",
    "scp = sns.scatterplot(x = scores[passed[:, 0], 0],\n",
    "                      y = scores[passed[:, 0], 1],\n",
    "                     markers = \"^\",\n",
    "                      color = \"green\"\n",
    "                     )\n",
    "sns.scatterplot(x = scores[failed[:, 0], 0],\n",
    "                      y = scores[failed[:, 0], 1],\n",
    "                     markers = \"*\",\n",
    "                      color = \"red\"\n",
    "                     )\n",
    "\n",
    "scp.legend([\"passed\",\"failed\"])\n",
    "scp.set(xlabel = \"test1\", ylabel = \"test2\")"
   ]
  },
  {
   "cell_type": "code",
   "execution_count": null,
   "metadata": {},
   "outputs": [],
   "source": [
    "# define the logistic sigmoid function\n",
    "def logistic_sigmoid(z):\n",
    "    return 1 / (1 + np.exp(-z))"
   ]
  },
  {
   "cell_type": "code",
   "execution_count": null,
   "metadata": {},
   "outputs": [],
   "source": [
    "# compute cost and gradient\n",
    "def cost_gradient(x, y, theta):\n",
    "    m = len(y)\n",
    "    y_pred = logistic_sigmoid(np.dot(x, theta))\n",
    "    cost = (- 1 / m) * (sum(y * np.log(y_pred) + (1 - y) * np.log(1 - y_pred)))\n",
    "    gradient = (1 / m) * np.dot(x.transpose(),(y_pred - y))\n",
    "    return cost, gradient"
   ]
  },
  {
   "cell_type": "code",
   "execution_count": null,
   "metadata": {},
   "outputs": [],
   "source": [
    "# initialize cost and gradient(theta = 0)\n",
    "mean_scores = np.mean(scores, axis = 0)\n",
    "std_scores = np.std(scores, axis = 0)\n",
    "scores = (scores - mean_scores) / std_scores\n",
    "#  scores row and column \n",
    "rows = scores.shape[0]\n",
    "cols = scores.shape[1]\n",
    "\n",
    "X = np.append(np.ones((rows, 1)), scores, axis = 1)\n",
    "y = results.reshape(rows, 1)\n",
    "theta_init = np.zeros((cols + 1, 1))\n",
    "\n",
    "cost, gradient = cost_gradient(X, y, theta_init)\n",
    "print(\"initial cost :\", cost, \"initial gradient\",gradient)"
   ]
  },
  {
   "cell_type": "code",
   "execution_count": null,
   "metadata": {},
   "outputs": [],
   "source": [
    "# gradient descent\n",
    "def gradient_descent(x, y, theta, alpha, iterations):\n",
    "    costs = []\n",
    "    for i in range(iterations):\n",
    "        cost, gradient = cost_gradient(x, y, theta)\n",
    "        costs.append(cost)\n",
    "        theta -= alpha * gradient\n",
    "        \n",
    "    return costs, theta\n",
    "    \n",
    "        "
   ]
  },
  {
   "cell_type": "code",
   "execution_count": null,
   "metadata": {},
   "outputs": [],
   "source": [
    "costs, theta = gradient_descent(X, y, theta_init, 1, 200)"
   ]
  },
  {
   "cell_type": "code",
   "execution_count": null,
   "metadata": {},
   "outputs": [],
   "source": [
    "print(\"theta after gradient descent : \", theta, \"cost with current theta : \", costs[-1])"
   ]
  },
  {
   "cell_type": "code",
   "execution_count": null,
   "metadata": {},
   "outputs": [],
   "source": [
    "# plot the convergence of J(theta)\n",
    "plt.plot(costs)\n",
    "plt.xlabel(\"iterations\")\n",
    "plt.ylabel(\"$J(\\Theta)$\")"
   ]
  },
  {
   "cell_type": "code",
   "execution_count": null,
   "metadata": {},
   "outputs": [],
   "source": [
    "# plot the decision boundary\n",
    "new_scp = sns.scatterplot(x = X[passed[:,0],1],\n",
    "                         y = X[passed[:,0], 2],\n",
    "                         markers = \"^\",\n",
    "                         color = \"green\")\n",
    "sns.scatterplot(x = X[failed[:, 0], 1],\n",
    "               y = X[failed[:,0],2],\n",
    "                markers = \"*\",\n",
    "                color = \"red\"\n",
    "               )\n",
    "\n",
    "new_scp.legend([\"passed\", \"failed\"])\n",
    "new_scp.set(xlabel = \"test1\", ylabel = \"test2\")\n",
    "X_boundary = np.array([np.min(X[:,1]), np.max(X[:,1])])\n",
    "y_boundary = -(theta[0] + theta[1] * X_boundary) / theta[2]\n",
    "sns.lineplot(x = X_boundary, y = y_boundary, color = \"blue\")"
   ]
  },
  {
   "cell_type": "code",
   "execution_count": null,
   "metadata": {},
   "outputs": [],
   "source": [
    "# prediction using the optimized theta \n",
    "def predict(theta, x):\n",
    "    result = logistic_sigmoid(np.dot(x, theta))\n",
    "    return result > 0.5"
   ]
  },
  {
   "cell_type": "code",
   "execution_count": null,
   "metadata": {},
   "outputs": [],
   "source": [
    "# calculate accuracy with training data\n",
    "p = predict(theta, X)\n",
    "accuracy = sum(p == y)\n",
    "print(\"accuracy is :\", accuracy[0],\"%\")"
   ]
  },
  {
   "cell_type": "code",
   "execution_count": null,
   "metadata": {},
   "outputs": [],
   "source": [
    "# predict for the test data\n",
    "test = np.array([50, 79])\n",
    "test = (test - mean_scores)/std_scores\n",
    "test = np.append(np.ones(1), test, axis = 0)\n",
    "p_test = logistic_sigmoid(np.dot(test, theta))\n",
    "print(\"the probability of passing the test is \" ,np.round(p_test[0],2))"
   ]
  },
  {
   "cell_type": "code",
   "execution_count": null,
   "metadata": {},
   "outputs": [],
   "source": []
  }
 ],
 "metadata": {
  "kernelspec": {
   "display_name": "Python 3",
   "language": "python",
   "name": "python3"
  },
  "language_info": {
   "codemirror_mode": {
    "name": "ipython",
    "version": 3
   },
   "file_extension": ".py",
   "mimetype": "text/x-python",
   "name": "python",
   "nbconvert_exporter": "python",
   "pygments_lexer": "ipython3",
   "version": "3.8.5"
  }
 },
 "nbformat": 4,
 "nbformat_minor": 4
}
